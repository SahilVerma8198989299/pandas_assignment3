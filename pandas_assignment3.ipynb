{
 "cells": [
  {
   "cell_type": "markdown",
   "id": "8a4ca271-2d50-4cac-9a87-dd21389f131d",
   "metadata": {},
   "source": [
    "Q1. Write a code to print the data present in the second row of the dataframe, df."
   ]
  },
  {
   "cell_type": "code",
   "execution_count": 9,
   "id": "d65e624f-e4b5-4efd-b3fb-0500188bebac",
   "metadata": {},
   "outputs": [
    {
     "data": {
      "text/html": [
       "<div>\n",
       "<style scoped>\n",
       "    .dataframe tbody tr th:only-of-type {\n",
       "        vertical-align: middle;\n",
       "    }\n",
       "\n",
       "    .dataframe tbody tr th {\n",
       "        vertical-align: top;\n",
       "    }\n",
       "\n",
       "    .dataframe thead th {\n",
       "        text-align: right;\n",
       "    }\n",
       "</style>\n",
       "<table border=\"1\" class=\"dataframe\">\n",
       "  <thead>\n",
       "    <tr style=\"text-align: right;\">\n",
       "      <th></th>\n",
       "      <th>course_name</th>\n",
       "      <th>duration</th>\n",
       "    </tr>\n",
       "  </thead>\n",
       "  <tbody>\n",
       "    <tr>\n",
       "      <th>0</th>\n",
       "      <td>Data Science</td>\n",
       "      <td>2</td>\n",
       "    </tr>\n",
       "    <tr>\n",
       "      <th>1</th>\n",
       "      <td>Machine Learning</td>\n",
       "      <td>3</td>\n",
       "    </tr>\n",
       "    <tr>\n",
       "      <th>2</th>\n",
       "      <td>Big Data</td>\n",
       "      <td>6</td>\n",
       "    </tr>\n",
       "    <tr>\n",
       "      <th>3</th>\n",
       "      <td>Data Engineer</td>\n",
       "      <td>4</td>\n",
       "    </tr>\n",
       "  </tbody>\n",
       "</table>\n",
       "</div>"
      ],
      "text/plain": [
       "        course_name  duration\n",
       "0      Data Science         2\n",
       "1  Machine Learning         3\n",
       "2          Big Data         6\n",
       "3     Data Engineer         4"
      ]
     },
     "execution_count": 9,
     "metadata": {},
     "output_type": "execute_result"
    }
   ],
   "source": [
    "import pandas as pd\n",
    "course_name = ['Data Science', 'Machine Learning', 'Big Data', 'Data Engineer']\n",
    "duration = [2,3,6,4]\n",
    "df = pd.DataFrame(data = {'course_name' : course_name, 'duration' : duration})\n",
    "df"
   ]
  },
  {
   "cell_type": "code",
   "execution_count": 15,
   "id": "cf723c72-dcf9-4594-904e-3e2cec229bcd",
   "metadata": {},
   "outputs": [
    {
     "data": {
      "text/html": [
       "<div>\n",
       "<style scoped>\n",
       "    .dataframe tbody tr th:only-of-type {\n",
       "        vertical-align: middle;\n",
       "    }\n",
       "\n",
       "    .dataframe tbody tr th {\n",
       "        vertical-align: top;\n",
       "    }\n",
       "\n",
       "    .dataframe thead th {\n",
       "        text-align: right;\n",
       "    }\n",
       "</style>\n",
       "<table border=\"1\" class=\"dataframe\">\n",
       "  <thead>\n",
       "    <tr style=\"text-align: right;\">\n",
       "      <th></th>\n",
       "      <th>course_name</th>\n",
       "      <th>duration</th>\n",
       "    </tr>\n",
       "  </thead>\n",
       "  <tbody>\n",
       "    <tr>\n",
       "      <th>1</th>\n",
       "      <td>Machine Learning</td>\n",
       "      <td>3</td>\n",
       "    </tr>\n",
       "  </tbody>\n",
       "</table>\n",
       "</div>"
      ],
      "text/plain": [
       "        course_name  duration\n",
       "1  Machine Learning         3"
      ]
     },
     "execution_count": 15,
     "metadata": {},
     "output_type": "execute_result"
    }
   ],
   "source": [
    "df.loc[[1]]"
   ]
  },
  {
   "cell_type": "markdown",
   "id": "17fb3a87-affe-4092-912d-3e8164b7c92e",
   "metadata": {},
   "source": [
    "Q2. What is the difference between the functions loc and iloc in pandas.DataFrame?"
   ]
  },
  {
   "cell_type": "raw",
   "id": "8c8020d7-bf32-474f-86c6-d2df915d5f74",
   "metadata": {},
   "source": [
    "loc: This is label-based, which means you have to specify rows and columns based on their row and column labels. It takes two single labels or a list of labels—one for the row index and another for the column index—and returns a DataFrame that contains only the rows and columns specified.\n",
    "df.loc[0:5, ['column1', 'column2']]"
   ]
  },
  {
   "cell_type": "raw",
   "id": "e04ac748-3dec-4367-9178-759e982ab68f",
   "metadata": {},
   "source": [
    "iloc: This is integer-based, so you have to specify rows and columns by their integer index. It takes two single integers or a list of integers—one for the row index and another for the column index—and returns a DataFrame that contains only the rows and columns specified.\n",
    "df.iloc[0:5, [0, 1]]"
   ]
  },
  {
   "cell_type": "raw",
   "id": "e77800fe-0c61-41d9-8081-b3cf0f4d86f8",
   "metadata": {},
   "source": [
    "Q3. Reindex the given dataframe using a variable, reindex = [3,0,1,2] and store it in the variable, new_df\n",
    "then find the output for both new_df.loc[2] and new_df.iloc[2].\n",
    "Did you observe any difference in both the outputs? If so then explain it.\n",
    "Consider the below code to answer further questions:\n",
    "Consider the below code to answer further questions:\n",
    "import pandas as pd\n",
    "import numpy as np\n",
    "columns = ['column_1', 'column_2', 'column_3', 'column_4', 'column_5', 'column_6']\n",
    "indices = [1,2,3,4,5,6]\n",
    "#Creating a dataframe:\n",
    "df1 = pd.DataFrame(np.random.rand(6,6), columns = columns, index = indices)"
   ]
  },
  {
   "cell_type": "code",
   "execution_count": 26,
   "id": "8a3dcdc9-aa55-41ad-a59a-16e3ea37e3d1",
   "metadata": {},
   "outputs": [
    {
     "name": "stdout",
     "output_type": "stream",
     "text": [
      "Output for new_df.loc[2]:\n",
      "column_1    0.458932\n",
      "column_2    0.021506\n",
      "column_3    0.566587\n",
      "column_4    0.320502\n",
      "column_5    0.824943\n",
      "column_6    0.564560\n",
      "Name: 2, dtype: float64\n",
      "\n",
      "Output for new_df.iloc[2]:\n",
      "column_1    0.190228\n",
      "column_2    0.389742\n",
      "column_3    0.098731\n",
      "column_4    0.214341\n",
      "column_5    0.712700\n",
      "column_6    0.316564\n",
      "Name: 1, dtype: float64\n"
     ]
    }
   ],
   "source": [
    "import pandas as pd\n",
    "import numpy as np\n",
    "\n",
    "columns = ['column_1', 'column_2', 'column_3', 'column_4', 'column_5', 'column_6']\n",
    "indices = [1, 2, 3, 4, 5, 6]\n",
    "\n",
    "# Creating a dataframe:\n",
    "df1 = pd.DataFrame(np.random.rand(6, 6), columns=columns, index=indices)\n",
    "\n",
    "# Reindexing\n",
    "reindex = [3, 0, 1, 2]\n",
    "new_df = df1.reindex(reindex)\n",
    "\n",
    "# Finding the output for new_df.loc[2] and new_df.iloc[2]\n",
    "print(\"Output for new_df.loc[2]:\")\n",
    "print(new_df.loc[2])\n",
    "\n",
    "print(\"\\nOutput for new_df.iloc[2]:\")\n",
    "print(new_df.iloc[2])\n"
   ]
  },
  {
   "cell_type": "markdown",
   "id": "ad0e1444-87b0-4df8-8770-d663e69cd45a",
   "metadata": {},
   "source": [
    "In this case, new_df.loc[2] will give an output based on the label 2, which corresponds to the row with index 2 in the new DataFrame new_df. On the other hand, new_df.iloc[2] will give an output based on the integer index 2, which corresponds to the third row in the new DataFrame new_df after reindexing. Since the row labels and integer indices are different after reindexing, the output for these two statements will correspond to different rows in the DataFrame new_df."
   ]
  },
  {
   "cell_type": "raw",
   "id": "8d896056-39b5-404e-aea4-b4a2332c66a9",
   "metadata": {},
   "source": [
    "Q4. Write a code to find the following statistical measurements for the above dataframe df1:\n",
    "(i) mean of each and every column present in the dataframe.\n",
    "(ii) standard deviation of column, ‘column_2’"
   ]
  },
  {
   "cell_type": "code",
   "execution_count": 29,
   "id": "b756b8af-fd5c-430e-9f0e-bbc6bc884fce",
   "metadata": {},
   "outputs": [
    {
     "name": "stdout",
     "output_type": "stream",
     "text": [
      "Mean of each column:\n",
      "column_1    0.551111\n",
      "column_2    0.534230\n",
      "column_3    0.580212\n",
      "column_4    0.400073\n",
      "column_5    0.533736\n",
      "column_6    0.488635\n",
      "dtype: float64\n",
      "\n",
      "Standard deviation of column 'column_2': 0.27785567403525663\n"
     ]
    }
   ],
   "source": [
    "import pandas as pd\n",
    "import numpy as np\n",
    "\n",
    "columns = ['column_1', 'column_2', 'column_3', 'column_4', 'column_5', 'column_6']\n",
    "indices = [1, 2, 3, 4, 5, 6]\n",
    "\n",
    "# Creating a dataframe:\n",
    "df1 = pd.DataFrame(np.random.rand(6, 6), columns=columns, index=indices)\n",
    "\n",
    "# (i) Mean of each column\n",
    "column_means = df1.mean()\n",
    "print(\"Mean of each column:\")\n",
    "print(column_means)\n",
    "\n",
    "# (ii) Standard deviation of column 'column_2'\n",
    "std_dev_column_2 = df1['column_2'].std()\n",
    "print(\"\\nStandard deviation of column 'column_2':\", std_dev_column_2)\n"
   ]
  },
  {
   "cell_type": "markdown",
   "id": "e8cdbd02-b994-49fa-b6f6-166ce6616c80",
   "metadata": {},
   "source": [
    "Q6. What do you understand about the windows function in pandas and list the types of windows\n",
    "functions?"
   ]
  },
  {
   "cell_type": "markdown",
   "id": "5d6dd44a-1d40-41af-833d-1fdc1eb7083f",
   "metadata": {},
   "source": [
    "n pandas, the windows functions are used for calculating metrics over a sliding or expanding window of data. These functions allow you to perform operations like sum, mean, min, max, etc., on a specified window of data, which can be useful for tasks such as smoothing data, calculating moving averages, or analyzing trends over time."
   ]
  },
  {
   "cell_type": "markdown",
   "id": "2f3a6472-9915-4604-a9af-4e8a1117ab28",
   "metadata": {},
   "source": [
    "Rolling: This function is used to provide rolling window calculations. It calculates metrics for a fixed-size window of consecutive rows. For example, you can calculate the rolling mean or sum over a specified window size.\n",
    "\n",
    "Expanding: This function calculates metrics for all the rows from the beginning of the DataFrame up to the current row. It continuously expands the window size as it processes each row.\n",
    "\n",
    "Exponentially Weighted: This function calculates the exponentially weighted moving average (EWMA) of a series. It assigns exponentially decreasing weights to older observations while giving more weight to recent observations.\n",
    "\n",
    "These window functions provide a flexible way to analyze and manipulate data based on different window sizes and types of calculations."
   ]
  },
  {
   "cell_type": "markdown",
   "id": "09fcce86-2c6c-4b27-b04a-4603befa44d3",
   "metadata": {},
   "source": [
    "Q7. Write a code to print only the current month and year at the time of answering this question.\n",
    "[Hint: Use pandas.datetime function]"
   ]
  },
  {
   "cell_type": "code",
   "execution_count": 30,
   "id": "615a9861-6e95-4558-9df7-0a129073b6b1",
   "metadata": {},
   "outputs": [
    {
     "name": "stdout",
     "output_type": "stream",
     "text": [
      "Current month: 4\n",
      "Current year: 2024\n"
     ]
    }
   ],
   "source": [
    "import pandas as pd\n",
    "\n",
    "# Get current date\n",
    "current_date = pd.Timestamp.now()\n",
    "\n",
    "# Extract current month and year\n",
    "current_month = current_date.month\n",
    "current_year = current_date.year\n",
    "\n",
    "# Print current month and year\n",
    "print(\"Current month:\", current_month)\n",
    "print(\"Current year:\", current_year)\n"
   ]
  },
  {
   "cell_type": "raw",
   "id": "aa778e14-42e7-484b-a814-c101bdffa7b3",
   "metadata": {},
   "source": [
    "Q8. Write a Python program that takes in two dates as input (in the format YYYY-MM-DD) and\n",
    "calculates the difference between them in days, hours, and minutes using Pandas time delta. The\n",
    "program should prompt the user to enter the dates and display the result."
   ]
  },
  {
   "cell_type": "code",
   "execution_count": null,
   "id": "a16a5898-ff8b-42fa-aa8d-b7ac0eb8725f",
   "metadata": {},
   "outputs": [],
   "source": [
    "import pandas as pd\n",
    "\n",
    "# Function to calculate the difference between two dates\n",
    "def date_difference():\n",
    "    # Get input dates from user\n",
    "    start_date = input(\"Enter the start date (YYYY-MM-DD): \")\n",
    "    end_date = input(\"Enter the end date (YYYY-MM-DD): \")\n",
    "\n",
    "    # Convert input strings to datetime objects\n",
    "    start_date = pd.to_datetime(start_date)\n",
    "    end_date = pd.to_datetime(end_date)\n",
    "\n",
    "    # Calculate the difference\n",
    "    diff = end_date - start_date\n",
    "\n",
    "    # Extract days, hours, and minutes\n",
    "    days = diff.days\n",
    "    hours, minutes = divmod(diff.seconds, 3600)\n",
    "    minutes = minutes // 60\n",
    "\n",
    "    # Display the result\n",
    "    print(f\"Difference: {days} days, {hours} hours, {minutes} minutes\")\n",
    "\n",
    "# Call the function\n",
    "date_difference()\n"
   ]
  },
  {
   "cell_type": "code",
   "execution_count": null,
   "id": "1dbb6c51-fac1-4163-a38c-967ba014e7ee",
   "metadata": {},
   "outputs": [],
   "source": []
  }
 ],
 "metadata": {
  "kernelspec": {
   "display_name": "Python 3 (ipykernel)",
   "language": "python",
   "name": "python3"
  },
  "language_info": {
   "codemirror_mode": {
    "name": "ipython",
    "version": 3
   },
   "file_extension": ".py",
   "mimetype": "text/x-python",
   "name": "python",
   "nbconvert_exporter": "python",
   "pygments_lexer": "ipython3",
   "version": "3.11.7"
  }
 },
 "nbformat": 4,
 "nbformat_minor": 5
}
